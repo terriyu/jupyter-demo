{
 "cells": [
  {
   "cell_type": "markdown",
   "metadata": {},
   "source": [
    "# Problem Set 1: Probability review and language models"
   ]
  },
  {
   "cell_type": "markdown",
   "metadata": {},
   "source": [
    "This is due on **Thursday, Sept 18, before lecture (2:30pm)**, submitted electronically.  It may take some time, so please get started as soon as possible!\n",
    "\n",
    "## How to do this problem set\n",
    "\n",
    "Some of these questions have textual answers, and some of them require writing Python code and computing results.  Write all the answers in this document.  Once you are finished, you will upload this `.ipynb` file to Moodle.  If you look at it in a text editor or something, you'll see it's just a plaintext version of all the information in the notebook.  It even includes all the images.\n",
    "\n",
    "As you develop code, it will be helpful to use the \"Restart Kernel\" button above, which restarts the Python interpreter and thus clears out all global variables.\n",
    "When creating your final version of the problem set to hand in, please do a fresh restart and execute every cell in order.  Then make sure to hit \"Save\"!\n",
    "\n",
    "As you are working, you may find the standard commandline version of Python to be a convenient alternative, depending on your working style.  Whatever you do, you have to copy all final answers into the IPython notebook page and make sure it correctly executes independently.  We will grade based upon that."
   ]
  },
  {
   "cell_type": "markdown",
   "metadata": {},
   "source": [
    "**Please write your name and UMass ID here.**\n",
    "\n",
    "* **Name:**\n",
    "* **UMass OIT ID:**\n",
    "\n",
    "**List collaborators, and how you collaborated, here:** (see our [grading and policies page](http://people.cs.umass.edu/~brenocon/inlp2014/grading.html) for details on our collaboration policy).\n",
    "\n",
    "* _name 1_ "
   ]
  },
  {
   "cell_type": "markdown",
   "metadata": {},
   "source": [
    "## Part (A): MLE\n",
    "\n",
    "This is a WRITTEN portion of the assignment.  Please answer using a Markdown cell. To look at the source code for any ipython notebook cell, just double click on it. \n",
    "\n",
    "The nice feature of ipython-notebook's version of Markdown is, you can embed LaTeX equations by using dollar signs. Inline example: $x = \\frac{a}{b}$ ... or, full line example: $$x = \\frac{a}{b}$$\n",
    "\n",
    "You can also make things **bold** or *italic* and other fun things. See documentation for the Markdown syntax on the internet for more information.  (Github, StackOverflow, and other websites also use Markdown.)"
   ]
  },
  {
   "cell_type": "markdown",
   "metadata": {},
   "source": [
    "***Question 1 (10 points):***\n",
    "\n",
    "Consider a unigram model.  Say there are $N$ tokens in the training data, and a particular word $w$ occurs $n_w$ times.  The unigram model says there is a parameter $\\theta \\in [0,1]$ which defines $P(w;\\theta)=\\theta$.  We've already noted that the maximum likelihood estimate of $\\theta$ is $\\frac{n_w}{N}$.  Prove this.\n",
    "\n",
    "Feel free to use the bernoulli/binomial form of the unigram model, where there are only two words in the vocabulary, one of which is $w$.\n",
    "The maximum likelihood optimization problem can be written\n",
    "\n",
    "$$ \\hat{\\theta} \n",
    "= \\arg\\max_{\\theta} P(w_1..w_N; \\theta) \n",
    "= \\prod_{i=1}^N P(w_i; \\theta)\n",
    "= \\prod_{i=1}^{N} \\theta^{1\\{w_i=w\\}} (1-\\theta)^{1\\{w_i \\neq w\\}} $$\n",
    "\n",
    "\n",
    "Where the notation $1\\{...\\}$ is the indicator function, evaluating to $1$ if $(...)$ is true or $0$ otherwise, and the notation $\\arg\\max_a f(a)$ means \"The value of $a$ that maximizes $f(a)$\".  (If you do the multinomial case where the vocabulary is larger than 2, you need Lagrange multipliers.  Feel free to do that if you know it.)"
   ]
  },
  {
   "cell_type": "markdown",
   "metadata": {},
   "source": [
    "**Answer:**\n",
    "\n",
    "answerme"
   ]
  },
  {
   "cell_type": "markdown",
   "metadata": {},
   "source": [
    "## Part (B): Heaps' law\n",
    "\n",
    "In this section you will verify an important statistical property of text called [Heaps' Law](http://en.wikipedia.org/wiki/Heaps'_law), which compares the number of tokens in a document or corpus, against the vocabulary size (a.k.a. the number of unique word types).  We would like to know how these two numbers relate to each other as you look at bigger and bigger corpora, by simulating collecting a bunch of news articles.\n",
    "\n",
    "### Part B1:\n",
    "\n",
    "Run the following code.  It iterates through NLTK's collection of 10,788 Reuters news articles, and after each article, calculate the cumulative sum of the number of tokens so far, as well as the number of unique wordtypes seen so far.  The x-axis is the number of tokens so far, and and y-axis is the number of wordtypes (vocabulary size) so far.\n",
    "\n",
    "*Notes*: To access the data, follow NLTK's instructions for how to install their data package, which contains this and other corpora.  The instructions are linked from [www.nltk.org](http://www.nltk.org/); or just find how with google.  You will need the data package for Part C as well."
   ]
  },
  {
   "cell_type": "code",
   "execution_count": null,
   "metadata": {
    "collapsed": true
   },
   "outputs": [],
   "source": [
    "from __future__ import division\n",
    "import matplotlib.pyplot as plt\n",
    "import nltk\n",
    "%matplotlib inline\n",
    "docids = nltk.corpus.reuters.fileids()\n",
    "seen_words = set()\n",
    "num_tokens_vs_wordtypes = []\n",
    "ntoks = 0\n",
    "for docid in docids:\n",
    "    tokens = nltk.corpus.reuters.words(docid)\n",
    "    ntoks += len(tokens)\n",
    "    for tok in tokens: seen_words.add(tok.lower())\n",
    "    num_tokens_vs_wordtypes.append( (ntoks, len(seen_words)) )\n",
    "\n",
    "plt.plot(\n",
    "    [ntok for ntok,ntype in num_tokens_vs_wordtypes],\n",
    "    [ntype for ntok,ntype in num_tokens_vs_wordtypes]\n",
    "         )"
   ]
  },
  {
   "cell_type": "markdown",
   "metadata": {},
   "source": [
    "### Part B2:\n",
    "***Question 2 (5 points):***\n",
    "\n",
    "At least in this corpus, it appears that as you look at more and more documents, you keep seeing new unseen words.  If you were to collect more and more documents from a larger corpus, will you ever stop seeing new words?  Why or why not?  What are the implications for language modeling?"
   ]
  },
  {
   "cell_type": "markdown",
   "metadata": {},
   "source": [
    "**ANSWER:**\n",
    "\n",
    "answerme"
   ]
  },
  {
   "cell_type": "markdown",
   "metadata": {},
   "source": [
    "## Part (C): N-gram Language Modeling"
   ]
  },
  {
   "cell_type": "markdown",
   "metadata": {},
   "source": [
    "### Part C1: Utility Code\n",
    "First, we provide some utility functions for manipulating multinomial distributions over types. You will employ these later on. "
   ]
  },
  {
   "cell_type": "code",
   "execution_count": null,
   "metadata": {
    "collapsed": false
   },
   "outputs": [],
   "source": [
    "from __future__ import division\n",
    "from collections import defaultdict\n",
    "import nltk, random\n",
    "\n",
    "# Utility functions if you want them\n",
    "\n",
    "def normalized_dict(dct):\n",
    "    \"\"\"\n",
    "    Assume dct is a string-to-number map.  Return a normalized version where the values sum to 1.\n",
    "    {\"a\":4.0, \"b\":2.0} ==> {\"a\":0.6666, \"b\":0.3333}\n",
    "    \"\"\"\n",
    "    s = sum(dct.values())\n",
    "    new_dct = {key: value*1.0/s for key,value in dct.items()}\n",
    "    return new_dct\n",
    "\n",
    "def weighted_draw_from_dict(choice_dict):\n",
    "    \"\"\"Randomly choose a key from a dict, where the values are the relative probability weights.\"\"\"\n",
    "    # http://stackoverflow.com/a/3679747/86684\n",
    "    choice_items = choice_dict.items()\n",
    "    total = sum(w for c, w in choice_items)\n",
    "    r = random.uniform(0, total)\n",
    "    upto = 0\n",
    "    for c, w in choice_items:\n",
    "       if upto + w > r:\n",
    "          return c\n",
    "       upto += w\n",
    "    assert False, \"Shouldn't get here\"\n",
    "\n",
    "# Quick test: This should be approx 7500\n",
    "a_count = sum(['a'==weighted_draw_from_dict({'a':3,'b':1}) for i in range(10000)])\n",
    "a_count"
   ]
  },
  {
   "cell_type": "markdown",
   "metadata": {},
   "source": [
    "**Question 3 (2 points):**\n",
    "Explain why the algorithm implemented in weighted_draw_from_dict(choice_dict) correctly samples from the multinomial distribution defined by choice_dict."
   ]
  },
  {
   "cell_type": "markdown",
   "metadata": {},
   "source": [
    "**Answer:**\n",
    "\n",
    "answerme"
   ]
  },
  {
   "cell_type": "markdown",
   "metadata": {},
   "source": [
    "**Question 4 (2 points):**\n",
    "Explain why the value of a_count above isn't exactly 7500 in practice. Note that a_count is a random variable. What is its expected value?"
   ]
  },
  {
   "cell_type": "markdown",
   "metadata": {},
   "source": [
    "**Answer:**\n",
    "\n",
    "answerme"
   ]
  },
  {
   "cell_type": "markdown",
   "metadata": {},
   "source": [
    "### Part C2: Load Some Data\n",
    "We will be using the novel *Emma* by [Jane Austen](http://en.wikipedia.org/wiki/Jane_Austen).\n",
    "Make sure you have the NLTK data packages installed, as described on the [\"Installing NLTK Data\"](http://www.nltk.org/data.html) page."
   ]
  },
  {
   "cell_type": "code",
   "execution_count": null,
   "metadata": {
    "collapsed": false
   },
   "outputs": [],
   "source": [
    "# http://www.nltk.org/api/nltk.tokenize.html#module-nltk.tokenize.punkt\n",
    "sentence_splitter = nltk.data.load('tokenizers/punkt/english.pickle')\n",
    "emma_text = nltk.corpus.gutenberg.raw(\"austen-emma.txt\")\n",
    "\n",
    "emma_sentences_raw = sentence_splitter.sentences_from_text(emma_text)\n",
    "emma_sentences_toks_origcase = [nltk.word_tokenize(sent_text) for sent_text in emma_sentences_raw]\n",
    "emma_sentences_toks = [[w.lower() for w in sent_toks] for sent_toks in emma_sentences_toks_origcase]\n",
    "\n",
    "print \"Document is %d characters, %s sentences, %s tokens\" % (\n",
    "    len(emma_text), len(emma_sentences_toks), sum(len(toks) for toks in emma_sentences_toks))"
   ]
  },
  {
   "cell_type": "markdown",
   "metadata": {},
   "source": [
    "***Question 5 (2 points):***\n",
    "\n",
    "Explain the difference between sentences_raw and sentences_toks above. What is tokenization?\n",
    "\n"
   ]
  },
  {
   "cell_type": "markdown",
   "metadata": {},
   "source": [
    "***Answer:***\n",
    "\n",
    "answerme"
   ]
  },
  {
   "cell_type": "markdown",
   "metadata": {},
   "source": [
    "### Part C3: Implementing Ngram Language Models\n",
    "\n",
    "We will write some code to train an ngram model and to use it for various downstream tasks, such as querying for probability values and sampling from the model's distribution over sentences.  \n",
    "\n",
    "We will use a simple pseudocount smoothing estimator. For a $k$-gram model (of history size $k-1$), and vocabulary size $V$, we have:\n",
    "\n",
    "$$ P(w_t | w_{t-k+1}..w_{t-1} ) = \\frac{ \\#(w_{t-k+1}..w_t) + \\alpha }{ \\#(w_{t-k+1}..w_{t-1}) + \\alpha V }. $$\n",
    "\n",
    "Here, $\\alpha$ is the number of pseudocounts for every word type.  The above conditional distribution yields the joint distribution over $w_1, \\ldots, w_t$ given by\n",
    "\n",
    "$$P(w_1, w_2, \\ldots , w_T) = \\Pi_{t=1}^T P(w_t | w_{t-k+1}..w_{t-1} )$$\n",
    "\n",
    "This expression doesn't quite make sense, though, since we would have terms like $P(w_1 | w_{0}, w_{-1} )$ for a bigram model and there is no such thing as $w_{0}$ and $w_{-1}$. In response, we add the types \"\\*\\*START\\*\\*\" and \"\\*\\*END\\*\\*\" to our vocabulary. For an ngram order of $n$, we effectively add $n-1$ \"\\*\\*START\\*\\*\" tokens to the start of the query sequence and $n-1$ \"\\*\\*END\\*\\*\" tokens to the end. Such a transformation is necessary for the training data as well, so that you properly estimate conditional probabilities involving these special types. \n",
    "\n",
    "\n",
    "### Part C3.0: Testing Your Code\n",
    "\n",
    "Whenever you need to write code, we will provide the skeleton of a python function. Place your solution between the  `# ANSWER STARTS HERE` and `# ANSWER ENDS HERE` comments. To make reading your submission easy, please leave these comments in. \n",
    "\n",
    "As in all engineering disciplines, it is very important to design test cases to make sure that what you've created actually works. An important method for diagnosing bugs in an algorithm or its implementation is to run it on inputs for which you know the correct output in advance. If the output of your implementation doesn't match what you expected, then you have a bug. Such  _unit tests_ are mandatory for software engineers at places like Google, and you should definitely get in the habit of writing them. It will save you lots of time in the long run. Broken code is not fun. \n",
    "\n",
    "From personal experience, it is helpful to run these tests before you run on real-world data. They typically run quickly and can save you from wasting time. Also, sometimes the output on real-world data might look good enough that you don't catch bugs. \n",
    "\n",
    "Throughout Section C3, we willl present a series of tests that the code should pass. We will do everything with respect to an imaginary language with the word types \"A\" and \"B\" (plus the \\*\\*START\\*\\* and \\*\\*END\\*\\* tokens). \n",
    "\n"
   ]
  },
  {
   "cell_type": "markdown",
   "metadata": {},
   "source": [
    "\n",
    "Now, rather than starting with data and constructing a model via MLE, we will start with a model and then construct data such that the MLE on this data should have the same parameters as the model. \n",
    "\n",
    "|        | P(w2 = A &#124;  w1) | P(w2 = B &#124; w1)  |  P(w2 = END &#124; w1)  | \n",
    "|--------|---------------|---|---|\n",
    "| w1 = A |         2/3          |  1/3 |  0 |\n",
    "| w1 = B |         0          | 2/3  |  1/3 |\n",
    "| w1 = START |     1          | 0  |  0 | \n",
    "\n",
    "\n",
    "***Question 6 (2 points):***\n",
    "In the next cell, we define two corpora, each consisting of one sentence. For which of these does the MLE bigram language model with zero pseudocounts yield the conditional probability table above? To provide your answer, uncomment one of the two definitions for the variable corpusForTesting in the box below it. \n"
   ]
  },
  {
   "cell_type": "code",
   "execution_count": null,
   "metadata": {
    "collapsed": false
   },
   "outputs": [],
   "source": [
    "corpus1 = [['A','A','A','B','B','B']]\n",
    "corpus2 = [['A','B','A','B','A','B']]"
   ]
  },
  {
   "cell_type": "code",
   "execution_count": null,
   "metadata": {
    "collapsed": false
   },
   "outputs": [],
   "source": [
    "#ANSWER STARTS HERE\n",
    "#corpusForTesting = corpus1\n",
    "#corpusForTesting = corpus2\n",
    "#ANSWER ENDS HERE"
   ]
  },
  {
   "cell_type": "markdown",
   "metadata": {},
   "source": [
    "### Part C3.1: Making Ngram Counts\n",
    "\n",
    "In this section, we will provide you with complete implementations. However, we will ask questions to make sure you understand them, and you will need to write unit tests for them. "
   ]
  },
  {
   "cell_type": "code",
   "execution_count": null,
   "metadata": {
    "collapsed": false
   },
   "outputs": [],
   "source": [
    "def make_ngrams(tokens, ngram_size):\n",
    "    \"\"\"Return a list of ngrams, of given size, from the input list of tokens.\n",
    "    Also include **START** and **END** tokens appropriately.\"\"\"\n",
    "    ngrams = []\n",
    "    tokens = ['**START**'] * (ngram_size-1) + tokens + ['**END**'] * (ngram_size-1)\n",
    "    for i in range(ngram_size, len(tokens)+1):\n",
    "        ngrams.append( tuple(tokens[i-ngram_size:i]))\n",
    "    \n",
    "    return ngrams"
   ]
  },
  {
   "cell_type": "markdown",
   "metadata": {},
   "source": [
    "***Question 7 (2 points):***\n",
    "\n",
    "For  an input sequence of length $L$, and an ngram size $n$, how many ngrams should the above function return?"
   ]
  },
  {
   "cell_type": "markdown",
   "metadata": {},
   "source": [
    "***Answer:***\n",
    "\n",
    "answerme"
   ]
  },
  {
   "cell_type": "markdown",
   "metadata": {},
   "source": [
    "Next, we define a class for storing the necessary count statistics for learning an ngram language model. The two main data structures it contains are vocabulary and ngram_count. We provide a fully-implemented version of this class. "
   ]
  },
  {
   "cell_type": "code",
   "execution_count": null,
   "metadata": {
    "collapsed": false
   },
   "outputs": [],
   "source": [
    "class NgramModelCounts:\n",
    "    def __init__(self):\n",
    "        self.vocabulary = set()\n",
    "        self.ngram_size = None\n",
    "        # designed to have the structure {prefix: {nextword: count}}\n",
    "        # Feel free to change if you don't like this approach\n",
    "        self.ngram_counts = defaultdict(lambda:defaultdict(int))\n",
    "\n",
    "def get_ngram_counts(sentences, ngram_size):\n",
    "    \"\"\"'Train' a fixed-order ngram model by doing the necessary ngram counts.\n",
    "    Return a data structure that represents the counts.\"\"\"\n",
    "    model = NgramModelCounts()\n",
    "    model.ngram_size = ngram_size\n",
    "    model.vocabulary.add(\"**START**\")\n",
    "    model.vocabulary.add(\"**END**\")\n",
    "    for sent_tokens in sentences:\n",
    "        ngrams = make_ngrams(sent_tokens, ngram_size)\n",
    "        for ngram in ngrams:\n",
    "            prefix = tuple(ngram[:ngram_size-1])\n",
    "            model.ngram_counts[prefix][ngram[-1]] += 1\n",
    "        for tok in sent_tokens:\n",
    "            model.vocabulary.add(tok)\n",
    "    return model\n",
    "\n"
   ]
  },
  {
   "cell_type": "markdown",
   "metadata": {},
   "source": [
    "***Question 8 (2 points):***\n",
    "\n",
    "For reasonable text corpora, and a NgramModelCounts model constructed from this corpus, how will len(model.ngram_counts) compare to the total number of tokens passed in? Will it be about the same size, larger, or smaller?\n"
   ]
  },
  {
   "cell_type": "markdown",
   "metadata": {},
   "source": [
    "***Answer:***\n",
    "\n",
    "answerme"
   ]
  },
  {
   "cell_type": "markdown",
   "metadata": {},
   "source": [
    "###Part C3.2: Querying the Model for Probabilities\n"
   ]
  },
  {
   "cell_type": "markdown",
   "metadata": {},
   "source": [
    "Next, we use the counts defined in a NgramModelCounts to define a multinomial word distributions for a given prefix. \n",
    "\n",
    "In the next cell, complete the skeleton code for next_word_prob, which, for a given prefix, returns the distribution over all possible next words, stored as a dictionary from strings to probability values (hint: use the normalized_dict function from section C1). \n",
    "\n",
    "Here are a few considerations:\n",
    "* Don't forget to account for word_pseudocount when computing probability estimates. \n",
    "* We will assume that out-of-vocabulary tokens have been mapped to the string \"\\*\\*OOV\\*\\*.\" Make sure to provide correct probability values when the next word or one of the words in the prefix is out-of-vocabulary.  Hint: make sure \"\\*\\*OOV\\*\\*\" receives pseudocounts. \n",
    "* Section C3.2-Test provides a means for you to make sure your code is working. \n"
   ]
  },
  {
   "cell_type": "code",
   "execution_count": null,
   "metadata": {
    "collapsed": false
   },
   "outputs": [],
   "source": [
    "def next_word_prob(prefix, model, word_pseudocount):\n",
    "    \"\"\" For the given prefix, return the distribution over all possible next words,\n",
    "    using the model and per-word pseudocount value given as input. \n",
    "    Hints: \n",
    "    (0) You will want to use the normalized_dict function defined in part C1\n",
    "    (1) Don't forget to add word_pseudocount to the counts in the input model. \n",
    "    (2) The input model (i.e. counts) doesn't include the **OOV** token. You will need \n",
    "        to explicitly add a counts for this (i.e. just pseudocounts).\n",
    "    \"\"\"\n",
    "#ANSWER STARTS HERE (15 points)\n",
    "\n",
    "#ANSWER ENDS HERE\n",
    "\n"
   ]
  },
  {
   "cell_type": "markdown",
   "metadata": {},
   "source": [
    "***Question 9 (2 points):***\n",
    "\n",
    "Note that NgramModelCounts isn't a model because it doesn't provide answers to probability queries directly. It simply stores the count statistics that the answers to these queries can be computed from. \n",
    "\n",
    "There are two ways to use the function next_word_prob to produce an ngram language model:\n",
    "\n",
    "1) For every possible prefix, store the normalized_dict given by next_word_prob(prefix, model, word_pseudocount). In downstream applications, when we want to query it for a given prefix, we just return the pre-computed vector of multinomial probabilities. \n",
    "\n",
    "2) In downstream applications, we call next\\_word\\_prob(prefix,model,pseudocounts) only as-needed for values of prefix that are asked for. (Note: this is sometimes called a  _lazy_ model). \n",
    "\n",
    "What are the pros and cons of each approach in terms of memory usage and the time it takes to answer a probability query? What would be a hybrid of these approaches that would have better properties than either of them (hint: caching)?"
   ]
  },
  {
   "cell_type": "markdown",
   "metadata": {},
   "source": [
    "***Answer:***\n",
    "\n",
    "answerme"
   ]
  },
  {
   "cell_type": "markdown",
   "metadata": {},
   "source": [
    "###<font color='red'> C3.2-Tests </font>\n",
    "\n",
    "***Question 10 (5 points):***\n",
    "Below, we have a simple piece of test code that (1) trains a model on the `corpusForTesting` you defined above, then (2) prints out the result of `next_word_prob()` with and without a pseudocount.\n",
    "\n",
    "Make sure this code runs and returns correct answers."
   ]
  },
  {
   "cell_type": "code",
   "execution_count": null,
   "metadata": {
    "collapsed": false
   },
   "outputs": [],
   "source": [
    "toy_model = get_ngram_counts(corpusForTesting, 2)\n",
    "\n",
    "print \"Probs for first token, under MLE\"\n",
    "p_after_start = next_word_prob( (\"**START**\",), toy_model, 0 )\n",
    "print \"Probs:\", p_after_start                   ## This should be a dictionary\n",
    "print \"Their sum:\", sum(p_after_start.values()) ## Should sum to 1, or extremely close\n",
    "print \"Prob of OOV:\", p_after_start[\"**OOV**\"]  ## This should be in the dict, but value should be 0\n",
    "\n",
    "print \"\\nProbs for first token, using a pseudocount\"\n",
    "p_after_start_pseudo = next_word_prob( (\"**START**\",), toy_model, 0.1 )\n",
    "print \"Probs:\", p_after_start_pseudo\n",
    "print \"Their sum:\", sum(p_after_start_pseudo.values())\n",
    "print \"Prob of OOV:\", p_after_start_pseudo[\"**OOV**\"]\n"
   ]
  },
  {
   "cell_type": "markdown",
   "metadata": {},
   "source": [
    "***Question 11 (4 points):***\n",
    "Next, we want to test that our code works to learn ngram models from data. We will use the synthetic corpus defined in corpusForTesting in section 3C.0. Call `next_word_prob()` a number of times with zero pseudocounts, to print out the values of the conditional probability table corresponding to the table in section 3C.0. If your implementation of `next_word_prob()` is correct, the values you print should be the same.  Otherwise, you have a bug.\n"
   ]
  },
  {
   "cell_type": "code",
   "execution_count": null,
   "metadata": {
    "collapsed": false
   },
   "outputs": [],
   "source": [
    "# ANSWER STARTS HERE\n",
    "\n",
    "# ANSWER ENDS HERE"
   ]
  },
  {
   "cell_type": "markdown",
   "metadata": {},
   "source": [
    "###Part C3.3: Randomly Generating Sentences From the Model\n"
   ]
  },
  {
   "cell_type": "markdown",
   "metadata": {},
   "source": [
    "Next, you will write a function in the next cell that samples a new sentence, given a model and a pseudocount value of 0. Here are some considerations:\n",
    "* We definitely encourage you to use the weighted_draw_from_dict function defined in section C.1. \n",
    "\n",
    "* Don't forget that you must generate a sentence with the \\*\\*START\\*\\* token and finish it with the \\*\\*END\\*\\* token. Other sequences of tokens have zero probability under the model, so they should never be generated. For the beginning, you just set the first token to be \\*\\*START\\*\\* with probability one. You should keep randomly generating tokens, conditional on their prefix, until you generate the \\*\\*END\\*\\* token. \n",
    "\n",
    "* Observe that the model may (with low probability) generate very long sentences, since there is always some probability that you draw a token that is not \\*\\*END\\*\\*, independent of the length of what you have generated so far. You can just manually stop the generation process for sentences longer than 1000. This introduces a very very mild bias to the sampling procedure (since it will never generate a sentence of length >1000, but these have nonzero probability under the model). \n",
    "\n",
    "* If your code has a bug and you enter an infinite loop, use Ctrl-C on the command line that launched ipython notebook. \n"
   ]
  },
  {
   "cell_type": "code",
   "execution_count": null,
   "metadata": {
    "collapsed": false
   },
   "outputs": [],
   "source": [
    "def sample_sentence(model):\n",
    "    ##See hints above.\n",
    "    ##Additional hint: don't forget to pad with START tokens. \n",
    "    tokens = ['**START**'] * (model.ngram_size-1)\n",
    "\n",
    "    #ANSWER STARTS HERE (15 points)\n",
    "\n",
    "    #ANSWER ENDS HERE\n"
   ]
  },
  {
   "cell_type": "markdown",
   "metadata": {},
   "source": [
    "###<font color='red'> C3.3-Tests </font>\n",
    "\n",
    "***Question 12 (5 points):***\n",
    "In the cell below, do the following for different values of N=10, N=100, and N=1000:\n",
    "* Take the NgramModelCounts you defined on corpusForTesting when testing next_word_prob above and generate N synthetic sentences from it.\n",
    "* Construct a new NgramModelCounts from these sentences. \n",
    "* Print the conditional probability table for this new model, as you did in C3.2-Tests (using zero pseudocounts again).\n",
    "\n",
    "Repeat these steps for each of N=10, N=100, and N=1000.  Larger values of N will give a recovered conditional probability table that is arbitrarily close to the table of the original model.  This property is called _statistical consistency_.  Maximum likelihood estimation happens to be consistent, so it can be checked whether your implementation has this behavior for large samples."
   ]
  },
  {
   "cell_type": "code",
   "execution_count": null,
   "metadata": {
    "collapsed": false
   },
   "outputs": [],
   "source": [
    "#ANSWER STARTS HERE\n",
    "\n",
    "#ANSWER ENDS HERE"
   ]
  },
  {
   "cell_type": "markdown",
   "metadata": {},
   "source": [
    "###Part C3.4: Computing Probabilities of Observations Under the Model \n",
    "\n",
    "Next, we provide a fully-implemented function to evaluate the log-probability of a sentence.\n",
    "As the function computes this, it should also print one line for each word, with four pieces of information:\n",
    "\n",
    "    prefix,  word,  p(word|prefix), count(ngrams of prefix-then-word)\n"
   ]
  },
  {
   "cell_type": "code",
   "execution_count": null,
   "metadata": {
    "collapsed": false
   },
   "outputs": [],
   "source": [
    "import math\n",
    "def logprob(tokens, model, word_pseudocount):\n",
    "    # return lp, the log probability of the tokens under the model \n",
    "    # it also prints the info described above\n",
    "    \n",
    "    lp = 0\n",
    "    tokens = ['**START**']*(model.ngram_size-1) + tokens + ['**END**']\n",
    "    for t in range(model.ngram_size-1, len(tokens)):\n",
    "        start,end = t-model.ngram_size+1, t\n",
    "        prefix = tuple(tokens[start:end])\n",
    "        probs = next_word_prob(prefix, model, word_pseudocount)\n",
    "        nextword = tokens[t]\n",
    "        if nextword not in model.vocabulary:\n",
    "            nextword = '**OOV**'\n",
    "        prob = probs[nextword]\n",
    "        print prefix, nextword, prob, \"with count\", model.ngram_counts.get(prefix,{}).get(nextword,0)\n",
    "        lp += math.log(prob)\n",
    "    return lp"
   ]
  },
  {
   "cell_type": "markdown",
   "metadata": {},
   "source": [
    "###<font color='red'> C3.4-Tests </font>\n",
    "\n",
    "Note: The following test certainly isn't comprehensive to assess whether your logprob implementation is correct. In practice, you will benefit from implementing additional unit tests. \n",
    "\n",
    "***Question 13 (2 points):***\n",
    "    \n",
    "The output of logprob should never be positive. Why?"
   ]
  },
  {
   "cell_type": "markdown",
   "metadata": {},
   "source": [
    "***Answer:***\n",
    "\n",
    "answerme"
   ]
  },
  {
   "cell_type": "markdown",
   "metadata": {},
   "source": [
    "***Question 14 (2 points):***\n",
    "\n",
    "Now, in the cell below write some code that runs on some NgramModelCounts defined in the tests above (or on the _Emma_ corpus) and asserts that the computed log probability never positive. We suggest generating random sentences using sample_sentence and then calling logprob on these. This is the beauty of unit tests. Since you know sample_sentence works, you can now use it in other tests!"
   ]
  },
  {
   "cell_type": "code",
   "execution_count": null,
   "metadata": {
    "collapsed": false
   },
   "outputs": [],
   "source": [
    "#ANSWER STARTS HERE\n",
    "#ANSWER ENDS HERE"
   ]
  },
  {
   "cell_type": "markdown",
   "metadata": {},
   "source": [
    "### Part C4: Exploratory Data Analysis\n",
    "Now let's explore text of _Emma_ by looking at properties of an ngram language model trained on it. First, train a model on the corpus:"
   ]
  },
  {
   "cell_type": "code",
   "execution_count": null,
   "metadata": {
    "collapsed": true
   },
   "outputs": [],
   "source": [
    "##Warning: make sure you didn't define any variable called sentences_toks in your unit tests above. \n",
    "#Otherwise you will be building a model on that, rather than on the text of Emma\n",
    "emma_model = get_ngram_counts(emma_sentences_toks, 2)"
   ]
  },
  {
   "cell_type": "markdown",
   "metadata": {},
   "source": [
    "Now, let's evaluate the log probability of a few sentences"
   ]
  },
  {
   "cell_type": "code",
   "execution_count": null,
   "metadata": {
    "collapsed": false
   },
   "outputs": [],
   "source": [
    "# Example 1 to evaluate. It should look like the following (subject to difference in formatting). \n",
    "#If it doesn't, you have a bug\n",
    "\n",
    "#('**START**',) emma 0.0135983147854 with count 102\n",
    "#('emma',) felt 0.0220173046907 with count 19\n",
    "#('felt',) afraid 0.00841155264993 with count 1\n",
    "#('afraid',) . 0.0411078996754 with count 3\n",
    "#('.',) **END** 0.998585259193 with count 6354\n",
    "#Out:\n",
    "#-16.084855879500022\n",
    "\n",
    "logprob(['emma','felt','afraid','.'], emma_model, .001)"
   ]
  },
  {
   "cell_type": "code",
   "execution_count": null,
   "metadata": {
    "collapsed": false
   },
   "outputs": [],
   "source": [
    "# Example 2 to evaluate\n",
    "logprob(['emma','felt','bodacious','.'], emma_model, .001)"
   ]
  },
  {
   "cell_type": "code",
   "execution_count": null,
   "metadata": {
    "collapsed": false
   },
   "outputs": [],
   "source": [
    "# Example 3 to evaluate\n",
    "logprob(['the','the','the','.'], emma_model, 0.001)"
   ]
  },
  {
   "cell_type": "markdown",
   "metadata": {},
   "source": [
    "***Question 15 (2 points):***\n",
    "The three sentences above have a wide range of log probabilities.  For each sentence, explain why it is less or more or in-between the others."
   ]
  },
  {
   "cell_type": "markdown",
   "metadata": {},
   "source": [
    "***Answer:***\n",
    "    answerme"
   ]
  },
  {
   "cell_type": "markdown",
   "metadata": {},
   "source": [
    "### Part C5: How Well do NGram Models Capture Grammar?\n",
    "\n",
    "First, train both a bigram and trigram model."
   ]
  },
  {
   "cell_type": "code",
   "execution_count": null,
   "metadata": {
    "collapsed": false
   },
   "outputs": [],
   "source": [
    "m1 = get_ngram_counts(emma_sentences_toks,2)\n",
    "m2 = get_ngram_counts(emma_sentences_toks,3)"
   ]
  },
  {
   "cell_type": "markdown",
   "metadata": {},
   "source": [
    "Then, sample ten sentences from each."
   ]
  },
  {
   "cell_type": "code",
   "execution_count": null,
   "metadata": {
    "collapsed": false
   },
   "outputs": [],
   "source": [
    "print \"FIRST ORDER\"\n",
    "for i in range(10): print ' '.join(sample_sentence(m1))\n",
    "print \"\\nSECOND ORDER\"\n",
    "for i in range(10): print ' '.join(sample_sentence(m2))"
   ]
  },
  {
   "cell_type": "markdown",
   "metadata": {},
   "source": [
    "***Question 16 (5 points):*** \n",
    "\n",
    "We would like to assess how often each model generates grammatical sentences. Cut-and-paste the randomly-generated sentences from  above in the triple-backquote section below, and add your grammaticality judgments at the beginning of every line with (1) if it was grammatical and (0) if it was ungrammatical. If you had to formulate particular standards for how you define grammaticality, please explain.\n"
   ]
  },
  {
   "cell_type": "markdown",
   "metadata": {},
   "source": [
    "***Answer:***\n",
    "\n",
    "```\n",
    "answerme\n",
    "```"
   ]
  },
  {
   "cell_type": "markdown",
   "metadata": {},
   "source": [
    "We would like to test the hypothesis that sentences drawn from a trigram model are grammatical more often than sentences drawn from a bigram model. However, since you annotated only 10 samples from each, it is difficult to detect a statistically significant difference in grammaticality since your resulting confidence intervals will +/- 30%. In other words, it is not unlikely that  that one is grammatical more frequently than the other as a result of chance, rather than the underlying hypothesized difference. However, if you had annotated >100 samples, then this would yield a more reasonable comparison. \n",
    "\n",
    "\n",
    "***Question 17 (1 point):***\n",
    "We are going to aggregate the statistics from everyone's homework submission to perform a single course-wide hypothesis test to see whether a trigram model produces grammatical sentences more frequently.  \n",
    "* How many were grammatical for the bigram model?  **ANSWER:** answerme\n",
    "* How many were grammatical from the trigram model?  **ANSWER:** answerme"
   ]
  },
  {
   "cell_type": "markdown",
   "metadata": {},
   "source": [
    "***Question 18 (3 points):***\n",
    "\n",
    "Based on reading these samples, what are the strengths and weaknesses of n-gram language models?  What phenonmena can it model, and what does it get wrong?  Please refer to specific examples in the sentences you just analyzed.\n"
   ]
  },
  {
   "cell_type": "markdown",
   "metadata": {},
   "source": [
    "***Answer:***\n",
    "\n",
    "answerme"
   ]
  },
  {
   "cell_type": "markdown",
   "metadata": {},
   "source": [
    "### Part D: Survey\n",
    "Note: If you respond to these with questions something that isn't garbage, you will get full credit. Think of the 4 points from this section as pseudocounts :). \n",
    "\n",
    "\n",
    "***Question 19 (2 points):***\n",
    "\n",
    "How did this problem set go? Was it too easy? Too hard? Just right? What aspects of it did you find most difficult?\n"
   ]
  },
  {
   "cell_type": "markdown",
   "metadata": {},
   "source": [
    "***Answer:***\n",
    "\n",
    "answerme"
   ]
  },
  {
   "cell_type": "markdown",
   "metadata": {},
   "source": [
    "***Question 20 (2 points):***\n",
    "Overall, what did you like or dislike about this problem set?"
   ]
  },
  {
   "cell_type": "markdown",
   "metadata": {},
   "source": [
    "***Answer:***\n",
    "\n",
    "answerme"
   ]
  }
 ],
 "metadata": {
  "celltoolbar": "Slideshow",
  "kernelspec": {
   "display_name": "Python 2",
   "language": "python",
   "name": "python2"
  },
  "language_info": {
   "codemirror_mode": {
    "name": "ipython",
    "version": 2
   },
   "file_extension": ".py",
   "mimetype": "text/x-python",
   "name": "python",
   "nbconvert_exporter": "python",
   "pygments_lexer": "ipython2",
   "version": "2.7.6"
  }
 },
 "nbformat": 4,
 "nbformat_minor": 0
}
